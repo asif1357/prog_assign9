{
 "cells": [
  {
   "cell_type": "code",
   "execution_count": 2,
   "id": "988f5ab1",
   "metadata": {},
   "outputs": [
    {
     "name": "stdout",
     "output_type": "stream",
     "text": [
      "Enter the Number to Check Disarium Number = 175\n",
      "The Sum of the Digits =  175\n",
      "\n",
      " is a Disarium Number. 175\n"
     ]
    }
   ],
   "source": [
    "#prog_1\n",
    "Number = int(input(\"Enter the Number to Check Disarium Number = \"))\n",
    "length = len(str(Number))\n",
    "\n",
    "Temp = Number\n",
    "Sum = 0\n",
    "rem = 0\n",
    "\n",
    "while Temp > 0:\n",
    "    rem = Temp % 10\n",
    "    Sum = Sum + int(rem**length)\n",
    "    Temp = Temp // 10\n",
    "    length = length - 1\n",
    "\n",
    "print(\"The Sum of the Digits = \",Sum)\n",
    "\n",
    "if Sum == Number:\n",
    "    print(\"\\n is a Disarium Number.\",Number)\n",
    "else:\n",
    "    print(\" is Not a Disarium Number.\")"
   ]
  },
  {
   "cell_type": "code",
   "execution_count": 3,
   "id": "2364f8ca",
   "metadata": {},
   "outputs": [
    {
     "name": "stdout",
     "output_type": "stream",
     "text": [
      "Disarium numbers between 1 and 100 are\n",
      "\n",
      " is a Disarium Number. 1\n",
      "\n",
      " is a Disarium Number. 2\n",
      "\n",
      " is a Disarium Number. 3\n",
      "\n",
      " is a Disarium Number. 4\n",
      "\n",
      " is a Disarium Number. 5\n",
      "\n",
      " is a Disarium Number. 6\n",
      "\n",
      " is a Disarium Number. 7\n",
      "\n",
      " is a Disarium Number. 8\n",
      "\n",
      " is a Disarium Number. 9\n",
      "\n",
      " is a Disarium Number. 89\n"
     ]
    }
   ],
   "source": [
    "#prog_2\n",
    "print(\"Disarium numbers between 1 and 100 are\");    \n",
    "\n",
    "for i in range(1, 101): \n",
    "    length = len(str(i))\n",
    "\n",
    "    Temp = i\n",
    "    Sum = 0\n",
    "    rem = 0\n",
    "\n",
    "    while Temp > 0:\n",
    "        rem = Temp % 10\n",
    "        Sum = Sum + int(rem**length)\n",
    "        Temp = Temp // 10\n",
    "        length = length - 1\n",
    "\n",
    "    if Sum == i:\n",
    "        print(\"\\n is a Disarium Number.\",i)\n",
    "    else:\n",
    "        continue"
   ]
  },
  {
   "cell_type": "code",
   "execution_count": 1,
   "id": "e6482823",
   "metadata": {},
   "outputs": [
    {
     "name": "stdout",
     "output_type": "stream",
     "text": [
      "enter any number : 19\n",
      "happy number\n"
     ]
    }
   ],
   "source": [
    "#prog_3\n",
    "num=int(input(\"enter any number : \"))\n",
    "temp=num\n",
    "while sum!=1 and sum!=4:\n",
    "    sum=0\n",
    "    while temp!=0:\n",
    "        rem=int(temp%10)\n",
    "        sum=sum+rem*rem\n",
    "        temp=temp/10\n",
    "    temp=sum\n",
    "if sum==1:\n",
    "    print(\"happy number\")\n",
    "else :\n",
    "    print(\"not a happy number\")\n",
    "        \n",
    "    \n",
    "\n"
   ]
  },
  {
   "cell_type": "code",
   "execution_count": 19,
   "id": "139e4504",
   "metadata": {},
   "outputs": [
    {
     "name": "stdout",
     "output_type": "stream",
     "text": [
      "The list of happy numbers between 1 and 100 are : \n",
      "1\n",
      "7\n",
      "10\n",
      "13\n",
      "19\n",
      "23\n",
      "28\n",
      "31\n",
      "32\n",
      "44\n",
      "49\n",
      "68\n",
      "70\n",
      "79\n",
      "82\n",
      "86\n",
      "91\n",
      "94\n",
      "97\n",
      "100\n"
     ]
    }
   ],
   "source": [
    "#prog_4\n",
    "def check_happy_num(my_num):\n",
    "   remaining = sum_val = 0\n",
    "   while(my_num > 0):\n",
    "      remaining = my_num%10\n",
    "      sum_val = sum_val + (remaining*remaining)\n",
    "      my_num = my_num//10\n",
    "   return sum_val\n",
    "print(\"The list of happy numbers between 1 and 100 are : \")\n",
    "for i in range(1, 101):\n",
    "   my_result = i\n",
    "   while(my_result != 1 and my_result != 4):\n",
    "      my_result = check_happy_num(my_result)\n",
    "   if(my_result == 1):\n",
    "      print(i)\n",
    "        "
   ]
  },
  {
   "cell_type": "code",
   "execution_count": 22,
   "id": "3f55bc55",
   "metadata": {},
   "outputs": [
    {
     "name": "stdout",
     "output_type": "stream",
     "text": [
      "enter a number : 81\n",
      "81  is a harshad number\n"
     ]
    }
   ],
   "source": [
    "#prog_5\n",
    "num=int(input(\"enter a number : \"))\n",
    "temp=num\n",
    "sum=0\n",
    "while(temp!=0):\n",
    "    rem=temp%10\n",
    "    sum=sum+rem\n",
    "    temp=int(temp/10)\n",
    "if num%sum == 0:\n",
    "    print(num,\" is a harshad number\")\n",
    "else:\n",
    "    print(num,\" is not a harshad number\")"
   ]
  },
  {
   "cell_type": "code",
   "execution_count": 23,
   "id": "c5918f40",
   "metadata": {},
   "outputs": [
    {
     "name": "stdout",
     "output_type": "stream",
     "text": [
      "Pronic numbers between 1 and 100: \n",
      "2\n",
      " \n",
      "6\n",
      " \n",
      "12\n",
      " \n",
      "20\n",
      " \n",
      "30\n",
      " \n",
      "42\n",
      " \n",
      "56\n",
      " \n",
      "72\n",
      " \n",
      "90\n",
      " \n"
     ]
    }
   ],
   "source": [
    "#prog_6\n",
    "def isPronicNumber(num):    \n",
    "    flag = False;    \n",
    "        \n",
    "    for j in range(1, num+1):    \n",
    "            \n",
    "        if((j*(j+1)) == num):    \n",
    "            flag = True    \n",
    "            break    \n",
    "    return flag    \n",
    "     \n",
    "    \n",
    "print(\"Pronic numbers between 1 and 100: \")   \n",
    "for i in range(1, 101):    \n",
    "    if(isPronicNumber(i)):    \n",
    "        print(i),    \n",
    "        print(\" \")"
   ]
  },
  {
   "cell_type": "code",
   "execution_count": null,
   "id": "8b74eb19",
   "metadata": {},
   "outputs": [],
   "source": []
  }
 ],
 "metadata": {
  "kernelspec": {
   "display_name": "Python 3 (ipykernel)",
   "language": "python",
   "name": "python3"
  },
  "language_info": {
   "codemirror_mode": {
    "name": "ipython",
    "version": 3
   },
   "file_extension": ".py",
   "mimetype": "text/x-python",
   "name": "python",
   "nbconvert_exporter": "python",
   "pygments_lexer": "ipython3",
   "version": "3.9.12"
  }
 },
 "nbformat": 4,
 "nbformat_minor": 5
}
